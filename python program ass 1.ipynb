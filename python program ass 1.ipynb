{
 "cells": [
  {
   "cell_type": "code",
   "execution_count": 1,
   "metadata": {},
   "outputs": [
    {
     "name": "stdout",
     "output_type": "stream",
     "text": [
      "Hello Python\n"
     ]
    }
   ],
   "source": [
    "print(\"Hello Python\")"
   ]
  },
  {
   "cell_type": "code",
   "execution_count": 2,
   "metadata": {},
   "outputs": [
    {
     "name": "stdout",
     "output_type": "stream",
     "text": [
      "enter the the first number2\n",
      "enter the the second number1\n",
      "addition of two number 3\n",
      "division of two number 2.0\n"
     ]
    }
   ],
   "source": [
    "a=int(input(\"enter the the first number\"))\n",
    "b=int(input(\"enter the the second number\"))\n",
    "c= a+b\n",
    "d=a/b\n",
    "print(\"addition of two number\",c)\n",
    "print(\"division of two number\",d)"
   ]
  },
  {
   "cell_type": "code",
   "execution_count": 3,
   "metadata": {},
   "outputs": [
    {
     "name": "stdout",
     "output_type": "stream",
     "text": [
      "enter the the base of triangle4\n",
      "enter the the height of triangle2\n",
      "area of triangle is 4.0\n"
     ]
    }
   ],
   "source": [
    "a=int(input(\"enter the the base of triangle\"))\n",
    "b=int(input(\"enter the the height of triangle\"))\n",
    "c= 1/2*(a*b)\n",
    "print(\"area of triangle is\",c)\n",
    "\n"
   ]
  },
  {
   "cell_type": "code",
   "execution_count": 13,
   "metadata": {},
   "outputs": [
    {
     "name": "stdout",
     "output_type": "stream",
     "text": [
      "enter the the first number3\n",
      "enter the the second number4\n",
      "after swaping value of a is  4\n",
      "after swapping value of b is 3\n"
     ]
    }
   ],
   "source": [
    "a=int(input(\"enter the the first number\"))\n",
    "b=int(input(\"enter the the second number\"))\n",
    "temp=a\n",
    "a=b\n",
    "b=temp\n",
    "\n",
    "print(\"after swaping value of a is \",a)\n",
    "print(\"after swapping value of b is\",b)\n"
   ]
  },
  {
   "cell_type": "code",
   "execution_count": 10,
   "metadata": {},
   "outputs": [
    {
     "name": "stdout",
     "output_type": "stream",
     "text": [
      "31\n"
     ]
    }
   ],
   "source": [
    "import random\n",
    "print(random.randint(0,100))"
   ]
  },
  {
   "cell_type": "code",
   "execution_count": null,
   "metadata": {},
   "outputs": [],
   "source": []
  }
 ],
 "metadata": {
  "kernelspec": {
   "display_name": "Python 3",
   "language": "python",
   "name": "python3"
  },
  "language_info": {
   "codemirror_mode": {
    "name": "ipython",
    "version": 3
   },
   "file_extension": ".py",
   "mimetype": "text/x-python",
   "name": "python",
   "nbconvert_exporter": "python",
   "pygments_lexer": "ipython3",
   "version": "3.7.6"
  }
 },
 "nbformat": 4,
 "nbformat_minor": 4
}
